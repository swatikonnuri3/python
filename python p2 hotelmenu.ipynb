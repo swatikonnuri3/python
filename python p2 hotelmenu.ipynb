{
 "cells": [
  {
   "cell_type": "code",
   "execution_count": 5,
   "id": "b0e2ad5e",
   "metadata": {},
   "outputs": [
    {
     "name": "stdout",
     "output_type": "stream",
     "text": [
      "welcome to PYTHON RESTAURANT\n",
      "Pizza : 100\n",
      "Pasta : 120\n",
      "Burger : 110\n",
      "Pepsi : 70\n",
      "Salad : 60\n",
      "Coffee : 40\n",
      "Please enter the name of the item that u want to order:Pizza\n",
      "your Pizza has been added to your order\n",
      "Do you want to add another item ? (Yes/No)Yes\n",
      "Please enter the name of the item that u want to order:Pasta\n",
      "your Pasta has been added to your order\n",
      "The total amount of your ordered items is 220\n"
     ]
    }
   ],
   "source": [
    "menu={\n",
    "    \"Pizza\":100,\n",
    "    \"Pasta\":120,\n",
    "    \"Burger\":110,\n",
    "    \"Pepsi\":70,\n",
    "    \"Salad\":60,\n",
    "    \"Coffee\":40\n",
    "}\n",
    "print(\"welcome to PYTHON RESTAURANT\")\n",
    "for key,value in menu.items():\n",
    "    print(key,\":\",value)\n",
    "total=0\n",
    "item1=input(\"Please enter the name of the item that u want to order:\")\n",
    "if item1 in menu:\n",
    "    total+=menu[item1]\n",
    "    print(f\"your {item1} has been added to your order\")\n",
    "else:\n",
    "    print(f\"Sorry,ordered {item1} is not avaialable yet\")\n",
    "item_2=input(\"Do you want to add another item ? (Yes/No)\")\n",
    "if item_2==\"Yes\":\n",
    "    item2=input(\"Please enter the name of the item that u want to order:\")\n",
    "    if item2 in menu:\n",
    "        total+=menu[item2]\n",
    "        print(f\"your {item2} has been added to your order\")\n",
    "    else:\n",
    "         print(f\"Sorry,ordered {item2} is not avaialable yet\")\n",
    "print(\"The total amount of your ordered items is\",total)\n",
    "        "
   ]
  },
  {
   "cell_type": "code",
   "execution_count": null,
   "id": "b5ddf8be",
   "metadata": {},
   "outputs": [],
   "source": []
  }
 ],
 "metadata": {
  "kernelspec": {
   "display_name": "Python 3 (ipykernel)",
   "language": "python",
   "name": "python3"
  },
  "language_info": {
   "codemirror_mode": {
    "name": "ipython",
    "version": 3
   },
   "file_extension": ".py",
   "mimetype": "text/x-python",
   "name": "python",
   "nbconvert_exporter": "python",
   "pygments_lexer": "ipython3",
   "version": "3.10.9"
  }
 },
 "nbformat": 4,
 "nbformat_minor": 5
}
